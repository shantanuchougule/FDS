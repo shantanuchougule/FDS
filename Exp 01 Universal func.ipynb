{
 "cells": [
  {
   "cell_type": "markdown",
   "id": "48a90dc2",
   "metadata": {},
   "source": [
    "# Universal Functions"
   ]
  },
  {
   "cell_type": "code",
   "execution_count": 1,
   "id": "04ad2e40",
   "metadata": {},
   "outputs": [],
   "source": [
    "import numpy as np"
   ]
  },
  {
   "cell_type": "markdown",
   "id": "b172d49f",
   "metadata": {},
   "source": [
    "# Arithmetic Functions"
   ]
  },
  {
   "cell_type": "code",
   "execution_count": 2,
   "id": "6c5feb12",
   "metadata": {},
   "outputs": [],
   "source": [
    "a=np.array([1,2,3,4,5])\n",
    "b=np.array([6,7,8,9,10])"
   ]
  },
  {
   "cell_type": "code",
   "execution_count": 3,
   "id": "d6f9c4a3",
   "metadata": {},
   "outputs": [
    {
     "name": "stdout",
     "output_type": "stream",
     "text": [
      "Addition using universal function :  [ 7  9 11 13 15]\n",
      "Subtraction using universal function :  [-5 -5 -5 -5 -5]\n",
      "Multiplication using universal function :  [ 6 14 24 36 50]\n",
      "division using universal function :  [0.16666667 0.28571429 0.375      0.44444444 0.5       ]\n"
     ]
    }
   ],
   "source": [
    "#addition\n",
    "result=np.add(a,b)\n",
    "print(\"Addition using universal function : \",result)\n",
    "#subtraction\n",
    "result1=np.subtract(a,b)\n",
    "print(\"Subtraction using universal function : \",result1)\n",
    "#multiplication\n",
    "result2=np.multiply(a,b)\n",
    "print(\"Multiplication using universal function : \",result2)\n",
    "#Divide\n",
    "result3=np.divide(a,b)\n",
    "print(\"division using universal function : \",result3)\n"
   ]
  },
  {
   "cell_type": "markdown",
   "id": "6161b9c8",
   "metadata": {},
   "source": [
    "# Statistical function"
   ]
  },
  {
   "cell_type": "code",
   "execution_count": 4,
   "id": "e8afed64",
   "metadata": {},
   "outputs": [
    {
     "name": "stdout",
     "output_type": "stream",
     "text": [
      "Minimum and maximum marks of the students: \n",
      "49 91\n",
      "Range of the marks of the students: \n",
      "42\n",
      "marks below which 70 % student fall: \n",
      "79.5\n",
      "Mean marks of the students: \n",
      "73.125\n",
      "Median marks of the students: \n",
      "74.0\n",
      "Standard deviation of marks of the students: \n",
      "13.052178936867207\n",
      "Variance of marks of the students: \n",
      "170.359375\n",
      "Average marks of the students: \n",
      "73.125\n"
     ]
    }
   ],
   "source": [
    "marks = np.array([60, 91, 80, 88, 69, 73, 49, 75]) \n",
    "# minimum and maximum \n",
    "print('Minimum and maximum marks of the students: ') \n",
    "print(np.amin(marks), np.amax(marks)) \n",
    "# range of marks i.e. max weight-min weight \n",
    "print('Range of the marks of the students: ') \n",
    "print(np.ptp(marks)) \n",
    "# percentile \n",
    "print('marks below which 70 % student fall: ') \n",
    "print(np.percentile(marks, 70)) \n",
    "# mean \n",
    "print('Mean marks of the students: ') \n",
    "print(np.mean(marks)) \n",
    "# median \n",
    "print('Median marks of the students: ') \n",
    "print(np.median(marks)) \n",
    "# standard deviation \n",
    "print('Standard deviation of marks of the students: ') \n",
    "print(np.std(marks)) \n",
    "# variance \n",
    "print('Variance of marks of the students: ') \n",
    "print(np.var(marks)) \n",
    "# average \n",
    "print('Average marks of the students: ') \n",
    "print(np.average(marks))\n"
   ]
  },
  {
   "cell_type": "markdown",
   "id": "3dd005eb",
   "metadata": {},
   "source": [
    "# Trigonometric functions"
   ]
  },
  {
   "cell_type": "code",
   "execution_count": 5,
   "id": "1aca5190",
   "metadata": {},
   "outputs": [],
   "source": [
    "# create an array of angles \n",
    "angles = np.array([0, 30, 45, 60, 90, 180]) \n"
   ]
  },
  {
   "cell_type": "code",
   "execution_count": 6,
   "id": "531b97be",
   "metadata": {},
   "outputs": [
    {
     "name": "stdout",
     "output_type": "stream",
     "text": [
      "Sine of angles in the array:\n",
      "[0.00000000e+00 5.00000000e-01 7.07106781e-01 8.66025404e-01\n",
      " 1.00000000e+00 1.22464680e-16]\n",
      "Inverse Sine of sine values:\n",
      "[0.0000000e+00 3.0000000e+01 4.5000000e+01 6.0000000e+01 9.0000000e+01\n",
      " 7.0167093e-15]\n",
      "Sine hyperbolic of angles in the array:\n",
      "[ 0.          0.54785347  0.86867096  1.24936705  2.3012989  11.54873936]\n",
      "Inverse Sine hyperbolic:\n",
      "[ 0.          0.52085606  0.76347126  0.94878485  0.74483916 -0.85086591]\n",
      "hypotenuse of right triangle is:\n",
      "5.0\n"
     ]
    }
   ],
   "source": [
    "# conversion of degree into radians \n",
    "# using deg2rad function \n",
    "radians = np.deg2rad(angles) \n",
    "# sine of angles \n",
    "print('Sine of angles in the array:') \n",
    "sine_value = np.sin(radians) \n",
    "print(np.sin(radians)) \n",
    "# inverse sine of sine values \n",
    "print('Inverse Sine of sine values:') \n",
    "print(np.rad2deg(np.arcsin(sine_value))) \n",
    "# hyperbolic sine of angles \n",
    "print('Sine hyperbolic of angles in the array:') \n",
    "sineh_value = np.sinh(radians) \n",
    "print(np.sinh(radians)) \n",
    "# inverse sine hyperbolic \n",
    "print('Inverse Sine hyperbolic:') \n",
    "print(np.sin(sineh_value)) \n",
    "# hypot function demonstration \n",
    "base = 4\n",
    "height = 3\n",
    "print('hypotenuse of right triangle is:') \n",
    "print(np.hypot(base, height))"
   ]
  },
  {
   "cell_type": "markdown",
   "id": "6d22038b",
   "metadata": {},
   "source": [
    "# Comparison functions"
   ]
  },
  {
   "cell_type": "code",
   "execution_count": 7,
   "id": "c108acaf",
   "metadata": {},
   "outputs": [
    {
     "data": {
      "text/plain": [
       "array([ True, False, False])"
      ]
     },
     "execution_count": 7,
     "metadata": {},
     "output_type": "execute_result"
    }
   ],
   "source": [
    "#greater\n",
    "a = np.array([4,2])\n",
    "b = np.array([2,2])\n",
    "a > b\n",
    "#greater\n",
    "np.greater([4, 2, 1], [2, 2, 2])\n"
   ]
  },
  {
   "cell_type": "code",
   "execution_count": 8,
   "id": "96c6ef51",
   "metadata": {},
   "outputs": [
    {
     "data": {
      "text/plain": [
       "array([ True,  True, False])"
      ]
     },
     "execution_count": 8,
     "metadata": {},
     "output_type": "execute_result"
    }
   ],
   "source": [
    "#greater_equal\n",
    "np.greater_equal([4, 2, 1], [2, 2, 2])"
   ]
  },
  {
   "cell_type": "code",
   "execution_count": 9,
   "id": "27030fbf",
   "metadata": {},
   "outputs": [
    {
     "data": {
      "text/plain": [
       "array([ True, False])"
      ]
     },
     "execution_count": 9,
     "metadata": {},
     "output_type": "execute_result"
    }
   ],
   "source": [
    "#less\n",
    "np.less([1, 2], [2, 2])\n"
   ]
  },
  {
   "cell_type": "code",
   "execution_count": 10,
   "id": "2d6fa4c0",
   "metadata": {},
   "outputs": [
    {
     "data": {
      "text/plain": [
       "array([False,  True,  True])"
      ]
     },
     "execution_count": 10,
     "metadata": {},
     "output_type": "execute_result"
    }
   ],
   "source": [
    "#less_equal\n",
    "np.less_equal([4, 2, 1], [2, 2, 2])\n"
   ]
  },
  {
   "cell_type": "code",
   "execution_count": 11,
   "id": "2b7243c7",
   "metadata": {},
   "outputs": [
    {
     "data": {
      "text/plain": [
       "array([[False,  True],\n",
       "       [False,  True]])"
      ]
     },
     "execution_count": 11,
     "metadata": {},
     "output_type": "execute_result"
    }
   ],
   "source": [
    "#not_equal \n",
    "np.not_equal([1.,2.], [1., 3.])\n",
    "np.not_equal([1, 2], [[1, 3],[1, 4]])"
   ]
  },
  {
   "cell_type": "code",
   "execution_count": 12,
   "id": "4e430795",
   "metadata": {},
   "outputs": [
    {
     "data": {
      "text/plain": [
       "array([ True])"
      ]
     },
     "execution_count": 12,
     "metadata": {},
     "output_type": "execute_result"
    }
   ],
   "source": [
    "#equal\n",
    "np.equal([0, 1, 3], np.arange(3))\n",
    "np.equal(1, np.ones(1))"
   ]
  },
  {
   "cell_type": "markdown",
   "id": "9888b576",
   "metadata": {},
   "source": [
    "# Logical functions\n"
   ]
  },
  {
   "cell_type": "markdown",
   "id": "4434e20f",
   "metadata": {},
   "source": [
    "# Logical AND\n"
   ]
  },
  {
   "cell_type": "code",
   "execution_count": 13,
   "id": "a537fe84",
   "metadata": {},
   "outputs": [
    {
     "data": {
      "text/plain": [
       "False"
      ]
     },
     "execution_count": 13,
     "metadata": {},
     "output_type": "execute_result"
    }
   ],
   "source": [
    "#LOGICAL AND\n",
    "np.logical_and(True, False)"
   ]
  },
  {
   "cell_type": "code",
   "execution_count": 14,
   "id": "587894d2",
   "metadata": {},
   "outputs": [
    {
     "data": {
      "text/plain": [
       "array([False, False])"
      ]
     },
     "execution_count": 14,
     "metadata": {},
     "output_type": "execute_result"
    }
   ],
   "source": [
    "np.logical_and([True, False], [False, False])\n"
   ]
  },
  {
   "cell_type": "markdown",
   "id": "a1d7f311",
   "metadata": {},
   "source": [
    "# Logical OR"
   ]
  },
  {
   "cell_type": "code",
   "execution_count": 15,
   "id": "dccc800f",
   "metadata": {},
   "outputs": [
    {
     "data": {
      "text/plain": [
       "True"
      ]
     },
     "execution_count": 15,
     "metadata": {},
     "output_type": "execute_result"
    }
   ],
   "source": [
    "#LOGICAL OR\n",
    "np.logical_or(True, False)"
   ]
  },
  {
   "cell_type": "code",
   "execution_count": 16,
   "id": "0a1525f9",
   "metadata": {},
   "outputs": [
    {
     "data": {
      "text/plain": [
       "array([ True, False, False, False,  True])"
      ]
     },
     "execution_count": 16,
     "metadata": {},
     "output_type": "execute_result"
    }
   ],
   "source": [
    "x = np.arange(5)\n",
    "np.logical_or(x < 1, x > 3)\n"
   ]
  },
  {
   "cell_type": "markdown",
   "id": "aee2a348",
   "metadata": {},
   "source": [
    "# Logical XOR"
   ]
  },
  {
   "cell_type": "code",
   "execution_count": 17,
   "id": "2004cd6a",
   "metadata": {},
   "outputs": [
    {
     "data": {
      "text/plain": [
       "True"
      ]
     },
     "execution_count": 17,
     "metadata": {},
     "output_type": "execute_result"
    }
   ],
   "source": [
    "#LOGICAL XOR\n",
    "np.logical_xor(True, False)\n"
   ]
  },
  {
   "cell_type": "code",
   "execution_count": 18,
   "id": "ae68f27b",
   "metadata": {},
   "outputs": [
    {
     "data": {
      "text/plain": [
       "array([ True, False, False, False,  True])"
      ]
     },
     "execution_count": 18,
     "metadata": {},
     "output_type": "execute_result"
    }
   ],
   "source": [
    "x = np.arange(5)\n",
    "np.logical_xor(x < 1, x > 3)"
   ]
  },
  {
   "cell_type": "markdown",
   "id": "7776ef6a",
   "metadata": {},
   "source": [
    "# Logical NOT"
   ]
  },
  {
   "cell_type": "code",
   "execution_count": 19,
   "id": "f8d08560",
   "metadata": {},
   "outputs": [
    {
     "data": {
      "text/plain": [
       "False"
      ]
     },
     "execution_count": 19,
     "metadata": {},
     "output_type": "execute_result"
    }
   ],
   "source": [
    "#LOGICAL NOT\n",
    "np.logical_not(3)\n"
   ]
  },
  {
   "cell_type": "code",
   "execution_count": 20,
   "id": "cc8cfbe4",
   "metadata": {},
   "outputs": [
    {
     "data": {
      "text/plain": [
       "array([False,  True,  True, False])"
      ]
     },
     "execution_count": 20,
     "metadata": {},
     "output_type": "execute_result"
    }
   ],
   "source": [
    "np.logical_not([True, False, 0, 1])\n"
   ]
  },
  {
   "cell_type": "code",
   "execution_count": 21,
   "id": "c60d33b8",
   "metadata": {},
   "outputs": [
    {
     "data": {
      "text/plain": [
       "array([False, False, False,  True,  True])"
      ]
     },
     "execution_count": 21,
     "metadata": {},
     "output_type": "execute_result"
    }
   ],
   "source": [
    "x = np.arange(5)\n",
    "np.logical_not(x<3)"
   ]
  },
  {
   "cell_type": "markdown",
   "id": "be1f3db2",
   "metadata": {},
   "source": [
    "# Floating functions"
   ]
  },
  {
   "cell_type": "code",
   "execution_count": 22,
   "id": "a0a6c3e6",
   "metadata": {},
   "outputs": [
    {
     "data": {
      "text/plain": [
       "array([False,  True,  True,  True,  True, False])"
      ]
     },
     "execution_count": 22,
     "metadata": {},
     "output_type": "execute_result"
    }
   ],
   "source": [
    "np.isreal([1+1j, 1+0j, 4.5, 3, 2, 2j])\n"
   ]
  },
  {
   "cell_type": "code",
   "execution_count": 23,
   "id": "a62c2b4b",
   "metadata": {},
   "outputs": [
    {
     "data": {
      "text/plain": [
       "array([ True, False, False, False, False,  True])"
      ]
     },
     "execution_count": 23,
     "metadata": {},
     "output_type": "execute_result"
    }
   ],
   "source": [
    "np.iscomplex([1+1j, 1+0j, 4.5, 3, 2, 2j])"
   ]
  },
  {
   "cell_type": "code",
   "execution_count": 24,
   "id": "93c9c67c",
   "metadata": {},
   "outputs": [
    {
     "data": {
      "text/plain": [
       "True"
      ]
     },
     "execution_count": 24,
     "metadata": {},
     "output_type": "execute_result"
    }
   ],
   "source": [
    "np.isfinite(1)\n"
   ]
  },
  {
   "cell_type": "code",
   "execution_count": 25,
   "id": "c3d1c64f",
   "metadata": {},
   "outputs": [
    {
     "data": {
      "text/plain": [
       "True"
      ]
     },
     "execution_count": 25,
     "metadata": {},
     "output_type": "execute_result"
    }
   ],
   "source": [
    "np.isfinite(0)"
   ]
  },
  {
   "cell_type": "code",
   "execution_count": 26,
   "id": "791fcfd5",
   "metadata": {},
   "outputs": [
    {
     "data": {
      "text/plain": [
       "True"
      ]
     },
     "execution_count": 26,
     "metadata": {},
     "output_type": "execute_result"
    }
   ],
   "source": [
    "np.isnan(np.nan)"
   ]
  },
  {
   "cell_type": "code",
   "execution_count": 27,
   "id": "26858da1",
   "metadata": {},
   "outputs": [
    {
     "data": {
      "text/plain": [
       "(-0.5, -0.0)"
      ]
     },
     "execution_count": 27,
     "metadata": {},
     "output_type": "execute_result"
    }
   ],
   "source": [
    "np.modf(-0.5)\n"
   ]
  },
  {
   "cell_type": "code",
   "execution_count": 28,
   "id": "8e43ddf0",
   "metadata": {},
   "outputs": [
    {
     "data": {
      "text/plain": [
       "array([-1., -1., -0.,  0.,  1.,  1.,  2.])"
      ]
     },
     "execution_count": 28,
     "metadata": {},
     "output_type": "execute_result"
    }
   ],
   "source": [
    "a = np.array([-1.7, -1.5, -0.2, 0.2, 1.5, 1.7, 2.0])\n",
    "np.trunc(a)"
   ]
  },
  {
   "cell_type": "code",
   "execution_count": null,
   "id": "1728cdf2",
   "metadata": {},
   "outputs": [],
   "source": []
  }
 ],
 "metadata": {
  "kernelspec": {
   "display_name": "Python 3 (ipykernel)",
   "language": "python",
   "name": "python3"
  },
  "language_info": {
   "codemirror_mode": {
    "name": "ipython",
    "version": 3
   },
   "file_extension": ".py",
   "mimetype": "text/x-python",
   "name": "python",
   "nbconvert_exporter": "python",
   "pygments_lexer": "ipython3",
   "version": "3.10.9"
  }
 },
 "nbformat": 4,
 "nbformat_minor": 5
}
