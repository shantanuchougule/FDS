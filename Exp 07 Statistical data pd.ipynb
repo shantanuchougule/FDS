{
 "cells": [
  {
   "cell_type": "code",
   "execution_count": 5,
   "id": "d704ee0b",
   "metadata": {},
   "outputs": [],
   "source": [
    "import matplotlib.pyplot as plt\n",
    "import pandas as pd "
   ]
  },
  {
   "cell_type": "code",
   "execution_count": 6,
   "id": "4b49e5ba",
   "metadata": {},
   "outputs": [
    {
     "data": {
      "text/html": [
       "<div>\n",
       "<style scoped>\n",
       "    .dataframe tbody tr th:only-of-type {\n",
       "        vertical-align: middle;\n",
       "    }\n",
       "\n",
       "    .dataframe tbody tr th {\n",
       "        vertical-align: top;\n",
       "    }\n",
       "\n",
       "    .dataframe thead th {\n",
       "        text-align: right;\n",
       "    }\n",
       "</style>\n",
       "<table border=\"1\" class=\"dataframe\">\n",
       "  <thead>\n",
       "    <tr style=\"text-align: right;\">\n",
       "      <th></th>\n",
       "      <th>0</th>\n",
       "    </tr>\n",
       "  </thead>\n",
       "  <tbody>\n",
       "    <tr>\n",
       "      <th>0</th>\n",
       "      <td>33</td>\n",
       "    </tr>\n",
       "    <tr>\n",
       "      <th>1</th>\n",
       "      <td>20</td>\n",
       "    </tr>\n",
       "    <tr>\n",
       "      <th>2</th>\n",
       "      <td>24</td>\n",
       "    </tr>\n",
       "    <tr>\n",
       "      <th>3</th>\n",
       "      <td>26</td>\n",
       "    </tr>\n",
       "    <tr>\n",
       "      <th>4</th>\n",
       "      <td>14</td>\n",
       "    </tr>\n",
       "    <tr>\n",
       "      <th>5</th>\n",
       "      <td>37</td>\n",
       "    </tr>\n",
       "    <tr>\n",
       "      <th>6</th>\n",
       "      <td>61</td>\n",
       "    </tr>\n",
       "    <tr>\n",
       "      <th>7</th>\n",
       "      <td>52</td>\n",
       "    </tr>\n",
       "    <tr>\n",
       "      <th>8</th>\n",
       "      <td>14</td>\n",
       "    </tr>\n",
       "    <tr>\n",
       "      <th>9</th>\n",
       "      <td>49</td>\n",
       "    </tr>\n",
       "    <tr>\n",
       "      <th>10</th>\n",
       "      <td>12</td>\n",
       "    </tr>\n",
       "    <tr>\n",
       "      <th>11</th>\n",
       "      <td>15</td>\n",
       "    </tr>\n",
       "    <tr>\n",
       "      <th>12</th>\n",
       "      <td>18</td>\n",
       "    </tr>\n",
       "    <tr>\n",
       "      <th>13</th>\n",
       "      <td>17</td>\n",
       "    </tr>\n",
       "    <tr>\n",
       "      <th>14</th>\n",
       "      <td>32</td>\n",
       "    </tr>\n",
       "  </tbody>\n",
       "</table>\n",
       "</div>"
      ],
      "text/plain": [
       "     0\n",
       "0   33\n",
       "1   20\n",
       "2   24\n",
       "3   26\n",
       "4   14\n",
       "5   37\n",
       "6   61\n",
       "7   52\n",
       "8   14\n",
       "9   49\n",
       "10  12\n",
       "11  15\n",
       "12  18\n",
       "13  17\n",
       "14  32"
      ]
     },
     "execution_count": 6,
     "metadata": {},
     "output_type": "execute_result"
    }
   ],
   "source": [
    "av_data = [33,20,24,26,14,37,61,52,14,49,12,15,18,17,32]\n",
    "df = pd.DataFrame(av_data)\n",
    "df"
   ]
  },
  {
   "cell_type": "code",
   "execution_count": 15,
   "id": "4e77e400",
   "metadata": {},
   "outputs": [
    {
     "data": {
      "image/png": "[encoded data removed]",
      "text/plain": [
       "<Figure size 1000x700 with 1 Axes>"
      ]
     },
     "metadata": {},
     "output_type": "display_data"
    }
   ],
   "source": [
    "figure = plt.figure(figsize =(10, 7))  \n",
    "plt.boxplot(av_data)  \n",
    "plt.show()  "
   ]
  },
  {
   "cell_type": "code",
   "execution_count": 19,
   "id": "06bd4555",
   "metadata": {},
   "outputs": [
    {
     "data": {
      "image/png": "[encoded data removed]",
      "text/plain": [
       "<Figure size 640x480 with 1 Axes>"
      ]
     },
     "metadata": {},
     "output_type": "display_data"
    }
   ],
   "source": [
    "ax = figure.add_subplot(111)  \n",
    "bp = ax.boxplot(av_data, patch_artist = True,notch ='True', vert = 0) \n",
    "box_plot_data=[av_data]\n",
    "plt.title(\"whisker plot of created data\")\n",
    "plt.boxplot(box_plot_data,notch='True',patch_artist=True)\n",
    "plt.show()"
   ]
  },
  {
   "cell_type": "code",
   "execution_count": 17,
   "id": "f6d01cba",
   "metadata": {},
   "outputs": [
    {
     "name": "stdout",
     "output_type": "stream",
     "text": [
      "Mean: 0    28.266667\n",
      "dtype: float64\n",
      "Median: 0    24.0\n",
      "dtype: float64\n",
      "Mode:     0\n",
      "0  14\n",
      "Standard Deviation: 0    15.4664\n",
      "dtype: float64\n"
     ]
    }
   ],
   "source": [
    "#Calculating Mean , Median , Mode , STD\n",
    "\n",
    "mean = df.mean()\n",
    "print(\"Mean:\", mean)\n",
    "\n",
    "median = df.median()\n",
    "print(\"Median:\", median)\n",
    "\n",
    "mode = df.mode()\n",
    "print(\"Mode:\", mode)\n",
    "\n",
    "std_dev = df.std()\n",
    "print(\"Standard Deviation:\", std_dev)"
   ]
  },
  {
   "cell_type": "code",
   "execution_count": 14,
   "id": "1da4c7b7",
   "metadata": {},
   "outputs": [
    {
     "name": "stdout",
     "output_type": "stream",
     "text": [
      "25th Percentile [Q1] : 0    16.0\n",
      "Name: 0.25, dtype: float64\n",
      "50th Percentile (Median) [Q2] : 0    24.0\n",
      "Name: 0.5, dtype: float64\n",
      "75th Percentile [Q3] : 0    35.0\n",
      "Name: 0.75, dtype: float64\n"
     ]
    }
   ],
   "source": [
    "#Calculating the Percentiles \n",
    "\n",
    "percentile_25 = df.quantile(0.25)\n",
    "print(\"25th Percentile [Q1] :\", percentile_25)\n",
    "\n",
    "percentile_50 = df.quantile(0.50)\n",
    "print(\"50th Percentile (Median) [Q2] :\", percentile_50)\n",
    "\n",
    "percentile_75 = df.quantile(0.75)\n",
    "print(\"75th Percentile [Q3] :\", percentile_75)"
   ]
  },
  {
   "cell_type": "code",
   "execution_count": 10,
   "id": "e463dcbf",
   "metadata": {},
   "outputs": [
    {
     "name": "stdout",
     "output_type": "stream",
     "text": [
      "20th Quintile: 0    14.8\n",
      "Name: 0.2, dtype: float64\n",
      "40th Quintile: 0    19.2\n",
      "Name: 0.4, dtype: float64\n",
      "60th Quintile: 0    28.4\n",
      "Name: 0.6, dtype: float64\n",
      "80th Quintile: 0    39.4\n",
      "Name: 0.8, dtype: float64\n"
     ]
    }
   ],
   "source": [
    "#Calculating the Quintiles\n",
    "\n",
    "quintile_20 = df.quantile(0.2)\n",
    "print(\"20th Quintile:\", quintile_20)\n",
    "\n",
    "quintile_40 = df.quantile(0.4)\n",
    "print(\"40th Quintile:\", quintile_40)\n",
    "\n",
    "quintile_60 = df.quantile(0.6)\n",
    "print(\"60th Quintile:\", quintile_60)\n",
    "\n",
    "quintile_80 = df.quantile(0.8)\n",
    "print(\"80th Quintile:\", quintile_80)"
   ]
  },
  {
   "cell_type": "code",
   "execution_count": 11,
   "id": "f08d8799",
   "metadata": {},
   "outputs": [
    {
     "data": {
      "text/html": [
       "<div>\n",
       "<style scoped>\n",
       "    .dataframe tbody tr th:only-of-type {\n",
       "        vertical-align: middle;\n",
       "    }\n",
       "\n",
       "    .dataframe tbody tr th {\n",
       "        vertical-align: top;\n",
       "    }\n",
       "\n",
       "    .dataframe thead th {\n",
       "        text-align: right;\n",
       "    }\n",
       "</style>\n",
       "<table border=\"1\" class=\"dataframe\">\n",
       "  <thead>\n",
       "    <tr style=\"text-align: right;\">\n",
       "      <th></th>\n",
       "      <th>0</th>\n",
       "    </tr>\n",
       "  </thead>\n",
       "  <tbody>\n",
       "    <tr>\n",
       "      <th>count</th>\n",
       "      <td>15.000000</td>\n",
       "    </tr>\n",
       "    <tr>\n",
       "      <th>mean</th>\n",
       "      <td>28.266667</td>\n",
       "    </tr>\n",
       "    <tr>\n",
       "      <th>std</th>\n",
       "      <td>15.466400</td>\n",
       "    </tr>\n",
       "    <tr>\n",
       "      <th>min</th>\n",
       "      <td>12.000000</td>\n",
       "    </tr>\n",
       "    <tr>\n",
       "      <th>25%</th>\n",
       "      <td>16.000000</td>\n",
       "    </tr>\n",
       "    <tr>\n",
       "      <th>50%</th>\n",
       "      <td>24.000000</td>\n",
       "    </tr>\n",
       "    <tr>\n",
       "      <th>75%</th>\n",
       "      <td>35.000000</td>\n",
       "    </tr>\n",
       "    <tr>\n",
       "      <th>max</th>\n",
       "      <td>61.000000</td>\n",
       "    </tr>\n",
       "  </tbody>\n",
       "</table>\n",
       "</div>"
      ],
      "text/plain": [
       "               0\n",
       "count  15.000000\n",
       "mean   28.266667\n",
       "std    15.466400\n",
       "min    12.000000\n",
       "25%    16.000000\n",
       "50%    24.000000\n",
       "75%    35.000000\n",
       "max    61.000000"
      ]
     },
     "execution_count": 11,
     "metadata": {},
     "output_type": "execute_result"
    }
   ],
   "source": [
    "df.describe()"
   ]
  },
  {
   "cell_type": "code",
   "execution_count": null,
   "id": "cb7d4c2a",
   "metadata": {},
   "outputs": [],
   "source": [
    "#After comparing ,both are accurate "
   ]
  }
 ],
 "metadata": {
  "kernelspec": {
   "display_name": "Python 3 (ipykernel)",
   "language": "python",
   "name": "python3"
  },
  "language_info": {
   "codemirror_mode": {
    "name": "ipython",
    "version": 3
   },
   "file_extension": ".py",
   "mimetype": "text/x-python",
   "name": "python",
   "nbconvert_exporter": "python",
   "pygments_lexer": "ipython3",
   "version": "3.10.9"
  }
 },
 "nbformat": 4,
 "nbformat_minor": 5
}
