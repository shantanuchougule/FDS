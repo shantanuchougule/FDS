{
 "cells": [
  {
   "cell_type": "code",
   "execution_count": null,
   "id": "1c7925f8",
   "metadata": {},
   "outputs": [],
   "source": [
    "#Importing necessary libraries\n",
    "\n",
    "import pandas as pd\n",
    "import matplotlib.pyplot as plt \n",
    "import os\n"
   ]
  },
  {
   "cell_type": "code",
   "execution_count": 2,
   "id": "bd212803",
   "metadata": {},
   "outputs": [
    {
     "name": "stdout",
     "output_type": "stream",
     "text": [
      "      Price   Age       KM FuelType   HP  MetColor  Automatic    CC  Doors  \\\n",
      "0     13500  23.0  46986.0   Diesel   90       1.0          0  2000  three   \n",
      "1     13750  23.0  72937.0   Diesel   90       1.0          0  2000      3   \n",
      "2     13950  24.0  41711.0   Diesel   90       NaN          0  2000      3   \n",
      "3     14950  26.0  48000.0   Diesel   90       0.0          0  2000      3   \n",
      "4     13750  30.0  38500.0   Diesel   90       0.0          0  2000      3   \n",
      "...     ...   ...      ...      ...  ...       ...        ...   ...    ...   \n",
      "1431   7500   NaN  20544.0   Petrol   86       1.0          0  1300      3   \n",
      "1432  10845  72.0      NaN   Petrol   86       0.0          0  1300      3   \n",
      "1433   8500   NaN  17016.0   Petrol   86       0.0          0  1300      3   \n",
      "1434   7250  70.0      NaN      NaN   86       1.0          0  1300      3   \n",
      "1435   6950  76.0      1.0   Petrol  110       0.0          0  1600      5   \n",
      "\n",
      "      Weight  \n",
      "0       1165  \n",
      "1       1165  \n",
      "2       1165  \n",
      "3       1165  \n",
      "4       1170  \n",
      "...      ...  \n",
      "1431    1025  \n",
      "1432    1015  \n",
      "1433    1015  \n",
      "1434    1015  \n",
      "1435    1114  \n",
      "\n",
      "[1436 rows x 10 columns]\n"
     ]
    }
   ],
   "source": [
    "\n",
    "dataset = pd.read_csv('Toyota.csv',index_col = 0, na_values = [\"??\",\"???\"])\n",
    "print(dataset)"
   ]
  },
  {
   "cell_type": "code",
   "execution_count": 3,
   "id": "2bfcb438",
   "metadata": {},
   "outputs": [],
   "source": [
    "#Creating two copies of the dataset\n",
    "\n",
    "cars_data1 = dataset.copy()\n",
    "cars_data2 = cars_data1.copy()"
   ]
  },
  {
   "cell_type": "code",
   "execution_count": 12,
   "id": "8ba7aab5",
   "metadata": {},
   "outputs": [
    {
     "data": {
      "text/plain": [
       "Price          0\n",
       "Age          100\n",
       "KM            15\n",
       "FuelType     100\n",
       "HP             0\n",
       "MetColor     150\n",
       "Automatic      0\n",
       "CC             0\n",
       "Doors          0\n",
       "Weight         0\n",
       "dtype: int64"
      ]
     },
     "execution_count": 12,
     "metadata": {},
     "output_type": "execute_result"
    }
   ],
   "source": [
    "#Checking for misssing values\n",
    "\n",
    "cars_data1.isna().sum()"
   ]
  },
  {
   "cell_type": "code",
   "execution_count": 13,
   "id": "504d642e",
   "metadata": {},
   "outputs": [
    {
     "name": "stdout",
     "output_type": "stream",
     "text": [
      "      Price   Age       KM FuelType    HP  MetColor  Automatic    CC Doors  \\\n",
      "2     13950  24.0  41711.0   Diesel    90       NaN          0  2000     3   \n",
      "6     16900  27.0      NaN   Diesel  ????       NaN          0  2000     3   \n",
      "7     18600  30.0  75889.0      NaN    90       1.0          0  2000     3   \n",
      "9     12950  23.0  71138.0   Diesel  ????       NaN          0  1900     3   \n",
      "21    16950  29.0  43905.0      NaN   110       0.0          1  1600     3   \n",
      "...     ...   ...      ...      ...   ...       ...        ...   ...   ...   \n",
      "1428   8450  72.0      NaN   Petrol    86       NaN          0  1300     3   \n",
      "1431   7500   NaN  20544.0   Petrol    86       1.0          0  1300     3   \n",
      "1432  10845  72.0      NaN   Petrol    86       0.0          0  1300     3   \n",
      "1433   8500   NaN  17016.0   Petrol    86       0.0          0  1300     3   \n",
      "1434   7250  70.0      NaN      NaN    86       1.0          0  1300     3   \n",
      "\n",
      "      Weight  \n",
      "2       1165  \n",
      "6       1245  \n",
      "7       1245  \n",
      "9       1105  \n",
      "21      1170  \n",
      "...      ...  \n",
      "1428    1015  \n",
      "1431    1025  \n",
      "1432    1015  \n",
      "1433    1015  \n",
      "1434    1015  \n",
      "\n",
      "[337 rows x 10 columns]\n"
     ]
    }
   ],
   "source": [
    "missing = cars_data1[cars_data1.isnull().any(axis = 1)]\n",
    "print(missing)"
   ]
  },
  {
   "cell_type": "code",
   "execution_count": 14,
   "id": "e47fed90",
   "metadata": {
    "scrolled": false
   },
   "outputs": [
    {
     "data": {
      "text/html": [
       "<div>\n",
       "<style scoped>\n",
       "    .dataframe tbody tr th:only-of-type {\n",
       "        vertical-align: middle;\n",
       "    }\n",
       "\n",
       "    .dataframe tbody tr th {\n",
       "        vertical-align: top;\n",
       "    }\n",
       "\n",
       "    .dataframe thead th {\n",
       "        text-align: right;\n",
       "    }\n",
       "</style>\n",
       "<table border=\"1\" class=\"dataframe\">\n",
       "  <thead>\n",
       "    <tr style=\"text-align: right;\">\n",
       "      <th></th>\n",
       "      <th>Price</th>\n",
       "      <th>Age</th>\n",
       "      <th>KM</th>\n",
       "      <th>MetColor</th>\n",
       "      <th>Automatic</th>\n",
       "      <th>CC</th>\n",
       "      <th>Weight</th>\n",
       "    </tr>\n",
       "  </thead>\n",
       "  <tbody>\n",
       "    <tr>\n",
       "      <th>count</th>\n",
       "      <td>1436.000000</td>\n",
       "      <td>1336.000000</td>\n",
       "      <td>1421.000000</td>\n",
       "      <td>1286.000000</td>\n",
       "      <td>1436.000000</td>\n",
       "      <td>1436.000000</td>\n",
       "      <td>1436.00000</td>\n",
       "    </tr>\n",
       "    <tr>\n",
       "      <th>mean</th>\n",
       "      <td>10730.824513</td>\n",
       "      <td>55.672156</td>\n",
       "      <td>68647.239972</td>\n",
       "      <td>0.674961</td>\n",
       "      <td>0.055710</td>\n",
       "      <td>1566.827994</td>\n",
       "      <td>1072.45961</td>\n",
       "    </tr>\n",
       "    <tr>\n",
       "      <th>std</th>\n",
       "      <td>3626.964585</td>\n",
       "      <td>18.589804</td>\n",
       "      <td>37333.023589</td>\n",
       "      <td>0.468572</td>\n",
       "      <td>0.229441</td>\n",
       "      <td>187.182436</td>\n",
       "      <td>52.64112</td>\n",
       "    </tr>\n",
       "    <tr>\n",
       "      <th>min</th>\n",
       "      <td>4350.000000</td>\n",
       "      <td>1.000000</td>\n",
       "      <td>1.000000</td>\n",
       "      <td>0.000000</td>\n",
       "      <td>0.000000</td>\n",
       "      <td>1300.000000</td>\n",
       "      <td>1000.00000</td>\n",
       "    </tr>\n",
       "    <tr>\n",
       "      <th>25%</th>\n",
       "      <td>8450.000000</td>\n",
       "      <td>43.000000</td>\n",
       "      <td>43210.000000</td>\n",
       "      <td>0.000000</td>\n",
       "      <td>0.000000</td>\n",
       "      <td>1400.000000</td>\n",
       "      <td>1040.00000</td>\n",
       "    </tr>\n",
       "    <tr>\n",
       "      <th>50%</th>\n",
       "      <td>9900.000000</td>\n",
       "      <td>60.000000</td>\n",
       "      <td>63634.000000</td>\n",
       "      <td>1.000000</td>\n",
       "      <td>0.000000</td>\n",
       "      <td>1600.000000</td>\n",
       "      <td>1070.00000</td>\n",
       "    </tr>\n",
       "    <tr>\n",
       "      <th>75%</th>\n",
       "      <td>11950.000000</td>\n",
       "      <td>70.000000</td>\n",
       "      <td>87000.000000</td>\n",
       "      <td>1.000000</td>\n",
       "      <td>0.000000</td>\n",
       "      <td>1600.000000</td>\n",
       "      <td>1085.00000</td>\n",
       "    </tr>\n",
       "    <tr>\n",
       "      <th>max</th>\n",
       "      <td>32500.000000</td>\n",
       "      <td>80.000000</td>\n",
       "      <td>243000.000000</td>\n",
       "      <td>1.000000</td>\n",
       "      <td>1.000000</td>\n",
       "      <td>2000.000000</td>\n",
       "      <td>1615.00000</td>\n",
       "    </tr>\n",
       "  </tbody>\n",
       "</table>\n",
       "</div>"
      ],
      "text/plain": [
       "              Price          Age             KM     MetColor    Automatic  \\\n",
       "count   1436.000000  1336.000000    1421.000000  1286.000000  1436.000000   \n",
       "mean   10730.824513    55.672156   68647.239972     0.674961     0.055710   \n",
       "std     3626.964585    18.589804   37333.023589     0.468572     0.229441   \n",
       "min     4350.000000     1.000000       1.000000     0.000000     0.000000   \n",
       "25%     8450.000000    43.000000   43210.000000     0.000000     0.000000   \n",
       "50%     9900.000000    60.000000   63634.000000     1.000000     0.000000   \n",
       "75%    11950.000000    70.000000   87000.000000     1.000000     0.000000   \n",
       "max    32500.000000    80.000000  243000.000000     1.000000     1.000000   \n",
       "\n",
       "                CC      Weight  \n",
       "count  1436.000000  1436.00000  \n",
       "mean   1566.827994  1072.45961  \n",
       "std     187.182436    52.64112  \n",
       "min    1300.000000  1000.00000  \n",
       "25%    1400.000000  1040.00000  \n",
       "50%    1600.000000  1070.00000  \n",
       "75%    1600.000000  1085.00000  \n",
       "max    2000.000000  1615.00000  "
      ]
     },
     "execution_count": 14,
     "metadata": {},
     "output_type": "execute_result"
    }
   ],
   "source": [
    "#Dealing with missing values\n",
    "cars_data1.describe()"
   ]
  },
  {
   "cell_type": "code",
   "execution_count": 15,
   "id": "d5a28b89",
   "metadata": {},
   "outputs": [
    {
     "data": {
      "text/plain": [
       "55.67215568862275"
      ]
     },
     "execution_count": 15,
     "metadata": {},
     "output_type": "execute_result"
    }
   ],
   "source": [
    "#Imputinng the missing values \n",
    "#filling age column\n",
    "\n",
    "cars_data1['Age'].mean()"
   ]
  },
  {
   "cell_type": "code",
   "execution_count": 16,
   "id": "70d00b6a",
   "metadata": {},
   "outputs": [],
   "source": [
    "cars_data1['Age'].fillna(cars_data2['Age'].mean(),inplace = True)"
   ]
  },
  {
   "cell_type": "code",
   "execution_count": 17,
   "id": "f09b32c2",
   "metadata": {},
   "outputs": [
    {
     "data": {
      "text/plain": [
       "63634.0"
      ]
     },
     "execution_count": 17,
     "metadata": {},
     "output_type": "execute_result"
    }
   ],
   "source": [
    "#filling KM column\n",
    "\n",
    "cars_data1['KM'].median()"
   ]
  },
  {
   "cell_type": "code",
   "execution_count": 18,
   "id": "4b6507af",
   "metadata": {},
   "outputs": [],
   "source": [
    "cars_data1['KM'].fillna(cars_data2['KM'].median(),inplace = True)"
   ]
  },
  {
   "cell_type": "code",
   "execution_count": 19,
   "id": "c859c8b5",
   "metadata": {},
   "outputs": [
    {
     "data": {
      "text/plain": [
       "Price          0\n",
       "Age            0\n",
       "KM             0\n",
       "FuelType     100\n",
       "HP             0\n",
       "MetColor     150\n",
       "Automatic      0\n",
       "CC             0\n",
       "Doors          0\n",
       "Weight         0\n",
       "dtype: int64"
      ]
     },
     "execution_count": 19,
     "metadata": {},
     "output_type": "execute_result"
    }
   ],
   "source": [
    "cars_data1.isna().sum()"
   ]
  },
  {
   "cell_type": "code",
   "execution_count": null,
   "id": "bf8210c6",
   "metadata": {},
   "outputs": [],
   "source": [
    "# Above we can see that we've imputed the missing values of \n",
    "# AGE , KM as they were Numerical values using median , mean ."
   ]
  },
  {
   "cell_type": "code",
   "execution_count": 21,
   "id": "c56fec9b",
   "metadata": {},
   "outputs": [
    {
     "data": {
      "text/plain": [
       "Petrol    1177\n",
       "Diesel     144\n",
       "CNG         15\n",
       "Name: FuelType, dtype: int64"
      ]
     },
     "execution_count": 21,
     "metadata": {},
     "output_type": "execute_result"
    }
   ],
   "source": [
    "# For categorical values of columns 'FuelType' and 'MetColor'\n",
    "\n",
    "cars_data1['FuelType'].value_counts()"
   ]
  },
  {
   "cell_type": "code",
   "execution_count": 25,
   "id": "a398bd8d",
   "metadata": {},
   "outputs": [],
   "source": [
    "cars_data1['FuelType'].fillna(cars_data2['FuelType'].value_counts().index[0],\n",
    "                              inplace = True)"
   ]
  },
  {
   "cell_type": "code",
   "execution_count": 26,
   "id": "a294ba29",
   "metadata": {},
   "outputs": [
    {
     "data": {
      "text/plain": [
       "0    1.0\n",
       "Name: MetColor, dtype: float64"
      ]
     },
     "execution_count": 26,
     "metadata": {},
     "output_type": "execute_result"
    }
   ],
   "source": [
    "cars_data1['MetColor'].mode()"
   ]
  },
  {
   "cell_type": "code",
   "execution_count": 30,
   "id": "efc33f71",
   "metadata": {},
   "outputs": [],
   "source": [
    "cars_data1['MetColor'].fillna(cars_data2['MetColor'].mode()[0],inplace = True)"
   ]
  },
  {
   "cell_type": "code",
   "execution_count": 36,
   "id": "1384c8c4",
   "metadata": {},
   "outputs": [
    {
     "name": "stdout",
     "output_type": "stream",
     "text": [
      "All the missing values are filled \n",
      "\n",
      "Price        0\n",
      "Age          0\n",
      "KM           0\n",
      "FuelType     0\n",
      "HP           0\n",
      "MetColor     0\n",
      "Automatic    0\n",
      "CC           0\n",
      "Doors        0\n",
      "Weight       0\n",
      "dtype: int64\n"
     ]
    }
   ],
   "source": [
    "# Rechecking the dataset copy to check we've filled out the missing values.\n",
    "\n",
    "print(\"All the missing values are filled \\n\")\n",
    "end = cars_data1.isna().sum()\n",
    "print(end)"
   ]
  },
  {
   "cell_type": "code",
   "execution_count": 37,
   "id": "ac66be2d",
   "metadata": {},
   "outputs": [],
   "source": [
    "cars_data2 = cars_data2.apply(lambda x: x.fillna(x.mean())\n",
    "                              if x.dtype == 'float' else\n",
    "                              x.fillna(x.value_counts().index[0]))"
   ]
  },
  {
   "cell_type": "code",
   "execution_count": 38,
   "id": "8d0f9ce0",
   "metadata": {},
   "outputs": [
    {
     "data": {
      "text/plain": [
       "Price        0\n",
       "Age          0\n",
       "KM           0\n",
       "FuelType     0\n",
       "HP           0\n",
       "MetColor     0\n",
       "Automatic    0\n",
       "CC           0\n",
       "Doors        0\n",
       "Weight       0\n",
       "dtype: int64"
      ]
     },
     "execution_count": 38,
     "metadata": {},
     "output_type": "execute_result"
    }
   ],
   "source": [
    "cars_data2.isna().sum()"
   ]
  },
  {
   "cell_type": "code",
   "execution_count": null,
   "id": "a8c6c69c",
   "metadata": {},
   "outputs": [],
   "source": []
  }
 ],
 "metadata": {
  "kernelspec": {
   "display_name": "Python 3 (ipykernel)",
   "language": "python",
   "name": "python3"
  },
  "language_info": {
   "codemirror_mode": {
    "name": "ipython",
    "version": 3
   },
   "file_extension": ".py",
   "mimetype": "text/x-python",
   "name": "python",
   "nbconvert_exporter": "python",
   "pygments_lexer": "ipython3",
   "version": "3.10.9"
  }
 },
 "nbformat": 4,
 "nbformat_minor": 5
}
